{
 "cells": [
  {
   "cell_type": "code",
   "execution_count": 1,
   "metadata": {},
   "outputs": [],
   "source": [
    "import pandas as pd"
   ]
  },
  {
   "cell_type": "code",
   "execution_count": 2,
   "metadata": {},
   "outputs": [],
   "source": [
    "link = \"C:/Users/Raffie/OneDrive - Legalmatch/Personal/13 Team Process Metrics/\""
   ]
  },
  {
   "cell_type": "code",
   "execution_count": 3,
   "metadata": {},
   "outputs": [],
   "source": [
    "crs = pd.read_csv(link+\"CR Sets.csv\")\n",
    "crc = pd.read_csv(link+\"CR Completed.csv\")\n",
    "ems = pd.read_csv(link+\"EM Set.csv\")\n",
    "deals = pd.read_csv(link+\"Deals.csv\")"
   ]
  },
  {
   "cell_type": "code",
   "execution_count": 4,
   "metadata": {},
   "outputs": [],
   "source": [
    "crs_clean = crs.dropna(subset=['Opportunity Name'])\n",
    "#crs_clean.tail(10)"
   ]
  },
  {
   "cell_type": "code",
   "execution_count": 5,
   "metadata": {},
   "outputs": [],
   "source": [
    "crc_clean = crc.dropna(subset=['Opportunity Name'])\n",
    "#crc_clean.tail(10)"
   ]
  },
  {
   "cell_type": "code",
   "execution_count": 6,
   "metadata": {},
   "outputs": [],
   "source": [
    "ems_clean = ems.dropna(subset=['Opportunity Name'])\n",
    "#ems_clean.tail(10)"
   ]
  },
  {
   "cell_type": "code",
   "execution_count": 7,
   "metadata": {},
   "outputs": [],
   "source": [
    "deals_clean = deals.dropna(subset=['Sales Team'])\n",
    "#deals_clean.tail(10)"
   ]
  },
  {
   "cell_type": "code",
   "execution_count": 8,
   "metadata": {},
   "outputs": [],
   "source": [
    "combined = pd.DataFrame(columns=['Process Tracking For','Sales Team','Opportunity Name',\n",
    "                                'Case Review Set', 'Case Review Completed', 'Enrollment Meeting Set',\n",
    "                                'Order Date','Membership Fee (After Discount)'])"
   ]
  },
  {
   "cell_type": "code",
   "execution_count": 9,
   "metadata": {},
   "outputs": [],
   "source": [
    "crs_combined = crs_clean[['Process Tracking For','Opportunity Name','Case Review Set']]\n",
    "#crs_combined.head(10)\n",
    "\n"
   ]
  },
  {
   "cell_type": "code",
   "execution_count": 10,
   "metadata": {},
   "outputs": [],
   "source": [
    "crc_combined = crc_clean[['Process Tracking For','Opportunity Name','Case Review Completed']]\n",
    "#crc_combined.head(10)"
   ]
  },
  {
   "cell_type": "code",
   "execution_count": 11,
   "metadata": {},
   "outputs": [],
   "source": [
    "ems_combined = ems_clean[['Process Tracking For','Opportunity Name','Enrollment Meeting Set']]\n",
    "#ems_combined.head(5)"
   ]
  },
  {
   "cell_type": "code",
   "execution_count": 12,
   "metadata": {},
   "outputs": [],
   "source": [
    "deals_combined = deals_clean[['Allocation Manager','Deal: Deal Name','Order Date','Membership Fee (After Discount)']]\n",
    "\n",
    "#deals_combined.head(5)\n"
   ]
  },
  {
   "cell_type": "code",
   "execution_count": 13,
   "metadata": {},
   "outputs": [],
   "source": [
    "deals_combined = deals_combined.rename(columns={'Allocation Manager':'Process Tracking For',\n",
    "                                               'Deal: Deal Name':'Opportunity Name'})\n",
    "#deals_combined.tail(5)"
   ]
  },
  {
   "cell_type": "code",
   "execution_count": 14,
   "metadata": {},
   "outputs": [],
   "source": [
    "frames= [crs_combined,crc_combined,ems_combined,deals_combined]"
   ]
  },
  {
   "cell_type": "code",
   "execution_count": 15,
   "metadata": {},
   "outputs": [],
   "source": [
    "final_combined = pd.concat(frames,axis = 0,join='outer',sort=False)"
   ]
  },
  {
   "cell_type": "code",
   "execution_count": 16,
   "metadata": {},
   "outputs": [],
   "source": [
    "#final_combined.tail(100)"
   ]
  },
  {
   "cell_type": "markdown",
   "metadata": {},
   "source": [
    "Need to add code to remove test entries in final_combined DataFrame"
   ]
  },
  {
   "cell_type": "code",
   "execution_count": 17,
   "metadata": {},
   "outputs": [],
   "source": [
    "final_combined['Opportunity Name'] = final_combined['Opportunity Name'].str.lower()"
   ]
  },
  {
   "cell_type": "code",
   "execution_count": 18,
   "metadata": {},
   "outputs": [],
   "source": [
    "final_combined = final_combined[~final_combined['Opportunity Name'].str.contains('test')]"
   ]
  },
  {
   "cell_type": "code",
   "execution_count": 20,
   "metadata": {},
   "outputs": [],
   "source": [
    "teamList = pd.read_csv(link+'Team List.csv')"
   ]
  },
  {
   "cell_type": "code",
   "execution_count": 21,
   "metadata": {},
   "outputs": [],
   "source": [
    "teamList = teamList[['Full Name','Team']]"
   ]
  },
  {
   "cell_type": "code",
   "execution_count": 34,
   "metadata": {},
   "outputs": [],
   "source": [
    "combined_wTeamList = final_combined.set_index('Process Tracking For').join(teamList.set_index('Full Name'))\n",
    "#combined_wTeamList = final_combined.join(teamList)\n",
    "#combined_wTeamList.to_csv(link+'final_combined.csv',index = False, header = True)"
   ]
  },
  {
   "cell_type": "code",
   "execution_count": 43,
   "metadata": {},
   "outputs": [],
   "source": [
    "combined_wTeamList = combined_wTeamList.reset_index()"
   ]
  },
  {
   "cell_type": "code",
   "execution_count": 45,
   "metadata": {},
   "outputs": [],
   "source": [
    "combined_wTeamList = combined_wTeamList.rename(columns={'index':'Process Tracking For'})"
   ]
  },
  {
   "cell_type": "code",
   "execution_count": 49,
   "metadata": {},
   "outputs": [],
   "source": [
    "combined_wTeamList = combined_wTeamList[['Process Tracking For','Team','Opportunity Name','Case Review Set',\n",
    "                    'Case Review Completed','Enrollment Meeting Set',\n",
    "                   'Order Date','Membership Fee (After Discount)']]"
   ]
  },
  {
   "cell_type": "code",
   "execution_count": 50,
   "metadata": {},
   "outputs": [],
   "source": [
    "sales_update = combined_wTeamList[combined_wTeamList['Team'].isna()]"
   ]
  },
  {
   "cell_type": "code",
   "execution_count": 51,
   "metadata": {},
   "outputs": [],
   "source": [
    "sales_update = sales_update['Process Tracking For']"
   ]
  },
  {
   "cell_type": "code",
   "execution_count": 52,
   "metadata": {},
   "outputs": [],
   "source": [
    "sales_update = set(sales_update)\n",
    "sales_update = list(sales_update)"
   ]
  },
  {
   "cell_type": "code",
   "execution_count": 53,
   "metadata": {},
   "outputs": [],
   "source": [
    "df_sales_update = pd.DataFrame({'Sales Rep For Update': sales_update})"
   ]
  },
  {
   "cell_type": "code",
   "execution_count": 54,
   "metadata": {},
   "outputs": [],
   "source": [
    "df_sales_update.to_csv(link+'Sales Teamlist Update.csv', index = False)"
   ]
  }
 ],
 "metadata": {
  "kernelspec": {
   "display_name": "Python 3",
   "language": "python",
   "name": "python3"
  },
  "language_info": {
   "codemirror_mode": {
    "name": "ipython",
    "version": 3
   },
   "file_extension": ".py",
   "mimetype": "text/x-python",
   "name": "python",
   "nbconvert_exporter": "python",
   "pygments_lexer": "ipython3",
   "version": "3.7.4"
  }
 },
 "nbformat": 4,
 "nbformat_minor": 2
}
