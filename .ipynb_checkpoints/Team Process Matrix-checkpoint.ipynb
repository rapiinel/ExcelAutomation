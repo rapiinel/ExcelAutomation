{
 "cells": [
  {
   "cell_type": "code",
   "execution_count": 1,
   "metadata": {},
   "outputs": [],
   "source": [
    "import pandas as pd"
   ]
  },
  {
   "cell_type": "code",
   "execution_count": 2,
   "metadata": {},
   "outputs": [],
   "source": [
    "link = \"C:/Users/Raffie/OneDrive - Legalmatch/Personal/13 Team Process Metrics/\""
   ]
  },
  {
   "cell_type": "markdown",
   "metadata": {},
   "source": [
    "Read All CSV raw files from salesforce"
   ]
  },
  {
   "cell_type": "code",
   "execution_count": 3,
   "metadata": {},
   "outputs": [],
   "source": [
    "crs = pd.read_csv(link+\"CR Sets.csv\")\n",
    "crc = pd.read_csv(link+\"CR Completed.csv\")\n",
    "ems = pd.read_csv(link+\"EM Set.csv\")\n",
    "deals = pd.read_csv(link+\"Deals.csv\")"
   ]
  },
  {
   "cell_type": "markdown",
   "metadata": {},
   "source": [
    "Remove Timestamp from raw files"
   ]
  },
  {
   "cell_type": "code",
   "execution_count": 4,
   "metadata": {},
   "outputs": [],
   "source": [
    "crs_clean = crs.dropna(subset=['Opportunity Name'])\n",
    "crc_clean = crc.dropna(subset=['Opportunity Name'])\n",
    "ems_clean = ems.dropna(subset=['Opportunity Name'])\n",
    "deals_clean = deals.dropna(subset=['Sales Team'])"
   ]
  },
  {
   "cell_type": "markdown",
   "metadata": {},
   "source": [
    "Getting needed columns from raw files"
   ]
  },
  {
   "cell_type": "code",
   "execution_count": 5,
   "metadata": {},
   "outputs": [],
   "source": [
    "crs_combined = crs_clean[['Process Tracking For','Opportunity Name','Case Review Set']]\n",
    "crc_combined = crc_clean[['Process Tracking For','Opportunity Name','Case Review Completed']]\n",
    "ems_combined = ems_clean[['Process Tracking For','Opportunity Name','Enrollment Meeting Set']]\n",
    "deals_combined = deals_clean[['Allocation Manager','Deal: Deal Name','Order Date','Membership Fee (After Discount)']]\n"
   ]
  },
  {
   "cell_type": "code",
   "execution_count": 6,
   "metadata": {},
   "outputs": [],
   "source": [
    "#Renaming deals header to match other raw files\n",
    "deals_combined = deals_combined.rename(columns={'Allocation Manager':'Process Tracking For',\n",
    "                                               'Deal: Deal Name':'Opportunity Name'})\n"
   ]
  },
  {
   "cell_type": "markdown",
   "metadata": {},
   "source": [
    "Concatinating all the raw files"
   ]
  },
  {
   "cell_type": "code",
   "execution_count": 7,
   "metadata": {},
   "outputs": [],
   "source": [
    "frames= [crs_combined,crc_combined,ems_combined,deals_combined]\n",
    "final_combined = pd.concat(frames,axis = 0,join='outer',sort=False)"
   ]
  },
  {
   "cell_type": "code",
   "execution_count": 8,
   "metadata": {},
   "outputs": [],
   "source": [
    "#dropping the index after concat since this will keep the previous index of the merged dataframes\n",
    "final_combined.reset_index(drop=True, inplace=True)"
   ]
  },
  {
   "cell_type": "markdown",
   "metadata": {},
   "source": [
    "Removing entries with \"Test\" keywords\""
   ]
  },
  {
   "cell_type": "code",
   "execution_count": 9,
   "metadata": {},
   "outputs": [],
   "source": [
    "#converting all entries in oppty. col to lower case to get test keyword\n",
    "final_combined['Opportunity Name'] = final_combined['Opportunity Name'].str.lower()\n",
    "final_combined = final_combined[~final_combined['Opportunity Name'].str.contains('test')]"
   ]
  },
  {
   "cell_type": "code",
   "execution_count": 10,
   "metadata": {},
   "outputs": [],
   "source": [
    "#Reading master teamlist for checking sales team\n",
    "teamList = pd.read_csv(link+'Team List.csv')\n",
    "teamList = teamList[['Full Name','Team']]"
   ]
  },
  {
   "cell_type": "code",
   "execution_count": 11,
   "metadata": {},
   "outputs": [],
   "source": [
    "#Reseting index to be used later for the resorting of the data, since if DF is joined with another DF it will be automatically\n",
    "# sorted\n",
    "final_combined.reset_index(inplace=True)\n",
    "final_combined.sort_values(by=['index'],ascending = True,inplace=True)\n",
    "final_combined = final_combined.rename(columns={'index':'id'})"
   ]
  },
  {
   "cell_type": "code",
   "execution_count": 12,
   "metadata": {},
   "outputs": [],
   "source": [
    "#Joining the combined raw file to the teamlist to imitate the lookup function in excel to get updated teamlist's sales team\n",
    "combined_wTeamList = final_combined.set_index('Process Tracking For').join(teamList.set_index('Full Name'),how='left')\n",
    "#resorting the entries to make the DF entries return to previous sequence\n",
    "combined_wTeamList.sort_values(by=['id'],ascending=True,inplace=True)"
   ]
  },
  {
   "cell_type": "code",
   "execution_count": 13,
   "metadata": {},
   "outputs": [],
   "source": [
    "#During the join process, the process tracking for was used as an index, this part will reset the process tracking for\n",
    "combined_wTeamList.reset_index(inplace=True)\n",
    "combined_wTeamList.set_index('id',inplace=True)\n",
    "combined_wTeamList.rename(columns={'index':'Process Tracking For'}, inplace=True)"
   ]
  },
  {
   "cell_type": "code",
   "execution_count": 14,
   "metadata": {},
   "outputs": [],
   "source": [
    "#Rearrange the columns then save as csv in link provided above\n",
    "combined_wTeamList = combined_wTeamList[['Process Tracking For','Team','Opportunity Name','Case Review Set',\n",
    "                    'Case Review Completed','Enrollment Meeting Set',\n",
    "                   'Order Date','Membership Fee (After Discount)']]\n",
    "combined_wTeamList.to_csv(link+'final_combined.csv',index = False, header = True)"
   ]
  },
  {
   "cell_type": "code",
   "execution_count": 15,
   "metadata": {},
   "outputs": [],
   "source": [
    "#Will check if there is a sales rep that is not included in master list then save the list as csv name \"Sales Teamlist Update\"\n",
    "sales_update = combined_wTeamList[combined_wTeamList['Team'].isna()]\n",
    "sales_update = sales_update['Process Tracking For']\n",
    "sales_update = set(sales_update)\n",
    "sales_update = list(sales_update)\n",
    "df_sales_update = pd.DataFrame({'Sales Rep For Update': sales_update})\n",
    "df_sales_update.to_csv(link+'Sales Teamlist Update.csv', index = False)"
   ]
  },
  {
   "cell_type": "code",
   "execution_count": null,
   "metadata": {},
   "outputs": [],
   "source": []
  }
 ],
 "metadata": {
  "kernelspec": {
   "display_name": "Python 3",
   "language": "python",
   "name": "python3"
  },
  "language_info": {
   "codemirror_mode": {
    "name": "ipython",
    "version": 3
   },
   "file_extension": ".py",
   "mimetype": "text/x-python",
   "name": "python",
   "nbconvert_exporter": "python",
   "pygments_lexer": "ipython3",
   "version": "3.7.4"
  }
 },
 "nbformat": 4,
 "nbformat_minor": 2
}
